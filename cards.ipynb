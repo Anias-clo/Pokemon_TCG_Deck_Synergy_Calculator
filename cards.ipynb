{
 "cells": [
  {
   "cell_type": "markdown",
   "id": "f57d5cd8",
   "metadata": {},
   "source": [
    "# Pokémon TCG Synergy Engine\n",
    "---"
   ]
  },
  {
   "cell_type": "code",
   "execution_count": 1,
   "id": "21bc1dee",
   "metadata": {},
   "outputs": [],
   "source": [
    "# import libraries for data wrangling\n",
    "import ast\n",
    "import re\n",
    "import pandas as pd\n",
    "import numpy as np\n",
    "import src"
   ]
  },
  {
   "cell_type": "markdown",
   "id": "170219af",
   "metadata": {},
   "source": [
    "## Pokémon TCG Data Wrangling\n",
    "---"
   ]
  },
  {
   "cell_type": "code",
   "execution_count": 2,
   "id": "eaa2ad6a",
   "metadata": {},
   "outputs": [],
   "source": [
    "data = src.get_card_data()\n",
    "df_pokemon = src.prep_pokemon_data(data)\n",
    "df_trainers = src.prep_trainer_df(data)"
   ]
  }
 ],
 "metadata": {
  "kernelspec": {
   "display_name": "Python 3",
   "language": "python",
   "name": "python3"
  },
  "language_info": {
   "codemirror_mode": {
    "name": "ipython",
    "version": 3
   },
   "file_extension": ".py",
   "mimetype": "text/x-python",
   "name": "python",
   "nbconvert_exporter": "python",
   "pygments_lexer": "ipython3",
   "version": "3.12.2"
  }
 },
 "nbformat": 4,
 "nbformat_minor": 5
}
